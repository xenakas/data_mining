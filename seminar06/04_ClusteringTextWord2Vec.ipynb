{
 "cells": [
  {
   "cell_type": "markdown",
   "metadata": {},
   "source": [
    "## Word2Vec"
   ]
  },
  {
   "cell_type": "markdown",
   "metadata": {},
   "source": [
    "Будем обучать word2vec из пакета gensim на корпусе opencorpora.<br/>\n",
    "Этот корпус небольшой, поэтому выдающихся результатов ждать не стоит, но зато обучение будет происходить быстро."
   ]
  },
  {
   "cell_type": "code",
   "execution_count": 1,
   "metadata": {},
   "outputs": [
    {
     "ename": "ModuleNotFoundError",
     "evalue": "No module named 'opencorpora'",
     "output_type": "error",
     "traceback": [
      "\u001b[0;31m---------------------------------------------------------------------------\u001b[0m",
      "\u001b[0;31mModuleNotFoundError\u001b[0m                       Traceback (most recent call last)",
      "\u001b[0;32m<ipython-input-1-07449cae6312>\u001b[0m in \u001b[0;36m<module>\u001b[0;34m()\u001b[0m\n\u001b[0;32m----> 1\u001b[0;31m \u001b[0;32mimport\u001b[0m \u001b[0mopencorpora\u001b[0m\u001b[0;34m\u001b[0m\u001b[0m\n\u001b[0m\u001b[1;32m      2\u001b[0m \u001b[0;34m\u001b[0m\u001b[0m\n\u001b[1;32m      3\u001b[0m \u001b[0;32mimport\u001b[0m \u001b[0mwarnings\u001b[0m\u001b[0;34m\u001b[0m\u001b[0m\n\u001b[1;32m      4\u001b[0m \u001b[0mwarnings\u001b[0m\u001b[0;34m.\u001b[0m\u001b[0mfilterwarnings\u001b[0m\u001b[0;34m(\u001b[0m\u001b[0;34m\"ignore\"\u001b[0m\u001b[0;34m,\u001b[0m \u001b[0mcategory\u001b[0m\u001b[0;34m=\u001b[0m\u001b[0mUserWarning\u001b[0m\u001b[0;34m)\u001b[0m\u001b[0;34m\u001b[0m\u001b[0m\n",
      "\u001b[0;31mModuleNotFoundError\u001b[0m: No module named 'opencorpora'"
     ]
    }
   ],
   "source": [
    "import opencorpora\n",
    "\n",
    "import warnings\n",
    "warnings.filterwarnings(\"ignore\", category=UserWarning)"
   ]
  },
  {
   "cell_type": "markdown",
   "metadata": {},
   "source": [
    "### Откроем корпус"
   ]
  },
  {
   "cell_type": "code",
   "execution_count": 2,
   "metadata": {},
   "outputs": [
    {
     "ename": "NameError",
     "evalue": "name 'opencorpora' is not defined",
     "output_type": "error",
     "traceback": [
      "\u001b[0;31m---------------------------------------------------------------------------\u001b[0m",
      "\u001b[0;31mNameError\u001b[0m                                 Traceback (most recent call last)",
      "\u001b[0;32m<ipython-input-2-cdd89ad60f1b>\u001b[0m in \u001b[0;36m<module>\u001b[0;34m()\u001b[0m\n\u001b[0;32m----> 1\u001b[0;31m \u001b[0mcorpus\u001b[0m \u001b[0;34m=\u001b[0m \u001b[0mopencorpora\u001b[0m\u001b[0;34m.\u001b[0m\u001b[0mCorpusReader\u001b[0m\u001b[0;34m(\u001b[0m\u001b[0;34m'annot.opcorpora.xml'\u001b[0m\u001b[0;34m)\u001b[0m\u001b[0;34m\u001b[0m\u001b[0m\n\u001b[0m\u001b[1;32m      2\u001b[0m \u001b[0mdocs\u001b[0m \u001b[0;34m=\u001b[0m \u001b[0mcorpus\u001b[0m\u001b[0;34m.\u001b[0m\u001b[0mcatalog\u001b[0m\u001b[0;34m(\u001b[0m\u001b[0;34m)\u001b[0m\u001b[0;34m\u001b[0m\u001b[0m\n",
      "\u001b[0;31mNameError\u001b[0m: name 'opencorpora' is not defined"
     ]
    }
   ],
   "source": [
    "corpus = opencorpora.CorpusReader('annot.opcorpora.xml')\n",
    "docs = corpus.catalog()"
   ]
  },
  {
   "cell_type": "code",
   "execution_count": 3,
   "metadata": {},
   "outputs": [
    {
     "name": "stdout",
     "output_type": "stream",
     "text": [
      "102 08172 Альдо Нове. No future XXI века\n",
      "103 21876 Эдгар По. Гений открытия\n",
      "104 Землетрясение в Чили\n",
      "105 Конец света 21 мая 2011 года не наступил\n",
      "106 Иудеи громят евреев в Иерусалиме\n",
      "107 Кровопролитие в Сирии затронуло Ливан\n",
      "108 Ливия: повстанцы освободили французов\n",
      "109 В Исландии проснулся ещё один вулкан\n",
      "110 02420 Актуальность Дарвина\n",
      "111 В Тунисе произошёл государственный переворот\n"
     ]
    }
   ],
   "source": [
    "for id, name in docs[100:110]:\n",
    "    print(id, name)"
   ]
  },
  {
   "cell_type": "code",
   "execution_count": 4,
   "metadata": {},
   "outputs": [
    {
     "data": {
      "text/plain": [
       "[[('Конец',\n",
       "   [('конец', 'NOUN,inan,masc,sing,nomn'),\n",
       "    ('конец', 'NOUN,inan,masc,sing,accs')]),\n",
       "  ('света', [('свет', 'NOUN,inan,masc,Sgtm,sing,gen1')]),\n",
       "  (',', [(',', 'PNCT')]),\n",
       "  ('который',\n",
       "   [('который', 'ADJF,Apro,Subx,Anph,masc,sing,nomn'),\n",
       "    ('который', 'ADJF,Apro,Subx,Anph,inan,masc,sing,accs')]),\n",
       "  ('предрекал', [('предрекаю', 'VERB,impf,tran,masc,sing,past,indc')]),\n",
       "  ('проповедник', [('проповедник', 'NOUN,anim,masc,sing,nomn')]),\n",
       "  ('-', [('-', 'PNCT')]),\n",
       "  ('евангелист', [('евангелист', 'NOUN,anim,masc,sing,nomn')]),\n",
       "  ('Герольд', [('герольд', 'NOUN,anim,masc,Name,sing,nomn')]),\n",
       "  ('Кемпинг', [('Кемпинг', 'UNKN')]),\n",
       "  ('утром', [('утром', 'ADVB')]),\n",
       "  ('в', [('в', 'PREP')]),\n",
       "  ('06.00', [('06.00', 'NUMB')]),\n",
       "  ('по', [('по', 'PREP')]),\n",
       "  ('московскому',\n",
       "   [('московский', 'ADJF,masc,sing,datv'),\n",
       "    ('московский', 'ADJF,neut,sing,datv')]),\n",
       "  ('времени', [('время', 'NOUN,inan,neut,sing,datv')]),\n",
       "  ('21', [('21', 'NUMB')]),\n",
       "  ('мая', [('май', 'NOUN,inan,masc,Sgtm,sing,gent')]),\n",
       "  ('2011', [('2011', 'NUMB')]),\n",
       "  ('года', [('год', 'NOUN,inan,masc,sing,gen1')]),\n",
       "  ('так', [('так', 'CONJ'), ('так', 'PRCL'), ('так', 'ADVB,Dmns')]),\n",
       "  ('и', [('и', 'CONJ')]),\n",
       "  ('не', [('не', 'PRCL')]),\n",
       "  ('наступил', [('наступил', 'VERB,perf,intr,masc,sing,past,indc')]),\n",
       "  ('.', [('.', 'PNCT')])],\n",
       " [('Это', [('это', 'NPRO,neut,sing,nomn'), ('это', 'NPRO,neut,sing,accs')]),\n",
       "  ('далеко', [('далеко', 'ADVB,Prdx')]),\n",
       "  ('не', [('не', 'PRCL')]),\n",
       "  ('первое',\n",
       "   [('первый', 'ADJF,Anum,neut,sing,nomn'),\n",
       "    ('первый', 'ADJF,Anum,neut,sing,accs')]),\n",
       "  ('несбывшееся',\n",
       "   [('несбывшийся', 'ADJF,neut,sing,nomn'),\n",
       "    ('несбывшийся', 'ADJF,neut,sing,accs')]),\n",
       "  ('предсказание', [('предсказание', 'NOUN,inan,neut,sing,nomn')]),\n",
       "  ('апокалипсиса', [('апокалипсис', 'NOUN,inan,masc,sing,gent')]),\n",
       "  ('.', [('.', 'PNCT')])],\n",
       " [('Поначалу', [('поначалу', 'ADVB')]),\n",
       "  ('на', [('на', 'PREP')]),\n",
       "  ('него',\n",
       "   [('он', 'NPRO,masc,3per,Anph,Anph,sing,accs,Af-p'),\n",
       "    ('оно', 'NPRO,neut,3per,Anph,Anph,sing,accs,Af-p')]),\n",
       "  ('практически', [('практически', 'ADVB')]),\n",
       "  ('не', [('не', 'PRCL')]),\n",
       "  ('обратили', [('обратил', 'VERB,perf,tran,plur,past,indc')]),\n",
       "  ('внимания', [('внимание', 'NOUN,inan,neut,sing,gent')]),\n",
       "  (',', [(',', 'PNCT')]),\n",
       "  ('однако', [('однако', 'CONJ,Prnt')]),\n",
       "  (',', [(',', 'PNCT')]),\n",
       "  ('с', [('с', 'PREP')]),\n",
       "  ('приближением', [('приближение', 'NOUN,inan,neut,sing,ablt')]),\n",
       "  ('этой', [('этот', 'ADJF,Subx,Apro,Anph,femn,sing,gent')]),\n",
       "  ('даты', [('дата', 'NOUN,inan,femn,sing,gent')]),\n",
       "  (',', [(',', 'PNCT')]),\n",
       "  ('немало',\n",
       "   [('немало', 'ADVB'),\n",
       "    ('немал', 'ADJS,neut,sing'),\n",
       "    ('немало', 'NUMR,nomn'),\n",
       "    ('немало', 'NUMR,accs')]),\n",
       "  ('СМИ', [('сми', 'NOUN,inan,GNdr,Pltm,Fixd,Abbr,plur,gent')]),\n",
       "  ('в', [('в', 'PREP')]),\n",
       "  ('поисках', [('поиск', 'NOUN,inan,masc,plur,loct')]),\n",
       "  ('сюжета', [('сюжет', 'NOUN,inan,masc,sing,gent')]),\n",
       "  (',', [(',', 'PNCT')]),\n",
       "  ('останавливались', [('останавливаюсь', 'VERB,impf,intr,plur,past,indc')]),\n",
       "  ('на', [('на', 'PREP')]),\n",
       "  ('этом', [('это', 'NPRO,neut,sing,loct')]),\n",
       "  (',', [(',', 'PNCT')]),\n",
       "  ('создавая', [('создавая', 'GRND,impf,tran,pres')]),\n",
       "  ('прекрасную', [('прекрасный', 'ADJF,Qual,femn,sing,accs')]),\n",
       "  ('бесплатную', [('бесплатный', 'ADJF,Qual,femn,sing,accs')]),\n",
       "  ('PR-компанию', [('PR-компанию', 'UNKN')]),\n",
       "  ('для', [('для', 'PREP')]),\n",
       "  ('горе-пророка', [('горе-пророка', 'UNKN')]),\n",
       "  ('.', [('.', 'PNCT')])],\n",
       " [('Вполне', [('вполне', 'ADVB')]),\n",
       "  ('вероятно',\n",
       "   [('вероятно', 'CONJ,Prnt'),\n",
       "    ('вероятно', 'ADVB,Prdx'),\n",
       "    ('вероятен', 'ADJS,Qual,neut,sing')]),\n",
       "  (',', [(',', 'PNCT')]),\n",
       "  ('что',\n",
       "   [('что', 'CONJ'),\n",
       "    ('что', 'NPRO,neut,sing,nomn'),\n",
       "    ('что', 'NPRO,neut,sing,accs'),\n",
       "    ('что', 'ADVB,Ques'),\n",
       "    ('что', 'PRCL')]),\n",
       "  ('Герольд', [('герольд', 'NOUN,anim,masc,Name,sing,nomn')]),\n",
       "  ('Кемпинг', [('Кемпинг', 'UNKN')]),\n",
       "  ('объяснит', [('объяснил', 'VERB,perf,tran,sing,3per,futr,indc')]),\n",
       "  ('это',\n",
       "   [('это', 'PRCL'),\n",
       "    ('это', 'NPRO,neut,sing,nomn'),\n",
       "    ('это', 'NPRO,neut,sing,accs'),\n",
       "    ('этот', 'ADJF,Subx,Apro,Anph,neut,sing,nomn'),\n",
       "    ('этот', 'ADJF,Subx,Apro,Anph,neut,sing,accs')]),\n",
       "  ('какой-либо', [('какой-либо', 'ADJF,Apro,femn,sing,ablt')]),\n",
       "  ('неточностью', [('неточность', 'NOUN,inan,femn,sing,ablt')]),\n",
       "  ('и', [('и', 'CONJ'), ('и', 'INTJ')]),\n",
       "  ('перенесет', [('перенёс', 'VERB,perf,tran,sing,3per,futr,indc')]),\n",
       "  ('катастрофу', [('катастрофа', 'NOUN,inan,femn,sing,accs')]),\n",
       "  ('на', [('на', 'PREP')]),\n",
       "  ('некоторое',\n",
       "   [('некоторый', 'ADJF,Apro,neut,sing,nomn'),\n",
       "    ('некоторый', 'ADJF,Apro,neut,sing,accs')]),\n",
       "  ('время', [('время', 'NOUN,inan,neut,sing,accs')]),\n",
       "  ('вперёд', [('вперёд', 'ADVB')]),\n",
       "  (',', [(',', 'PNCT')]),\n",
       "  ('и', [('и', 'CONJ'), ('и', 'INTJ')]),\n",
       "  ('по', [('по', 'PREP')]),\n",
       "  ('прежнему',\n",
       "   [('прежний', 'ADJF,masc,sing,datv'), ('прежний', 'ADJF,neut,sing,datv')]),\n",
       "  ('будет', [('есть', 'VERB,impf,intr,sing,3per,futr,indc')]),\n",
       "  ('оставаться', [('оставаться', 'INFN,impf,intr')]),\n",
       "  ('в', [('в', 'PREP')]),\n",
       "  ('центре', [('центр', 'NOUN,inan,masc,sing,loct')]),\n",
       "  ('внимания', [('внимание', 'NOUN,inan,neut,sing,gent')]),\n",
       "  ('.', [('.', 'PNCT')])],\n",
       " [('Так', [('так', 'CONJ'), ('так', 'PRCL'), ('так', 'ADVB,Dmns')]),\n",
       "  (',', [(',', 'PNCT')]),\n",
       "  ('согласно', [('согласно', 'PREP')]),\n",
       "  ('его',\n",
       "   [('его', 'ADJF,Fixd,Apro,Anph,plur,nomn'),\n",
       "    ('его', 'ADJF,Fixd,Apro,Anph,plur,gent'),\n",
       "    ('его', 'ADJF,Fixd,Apro,Anph,plur,datv'),\n",
       "    ('его', 'ADJF,Fixd,Apro,Anph,plur,accs'),\n",
       "    ('его', 'ADJF,Fixd,Apro,Anph,plur,ablt'),\n",
       "    ('его', 'ADJF,Fixd,Apro,Anph,plur,loct')]),\n",
       "  ('пророчествам', [('пророчество', 'NOUN,inan,neut,plur,datv')]),\n",
       "  (',', [(',', 'PNCT')]),\n",
       "  ('6', [('6', 'NUMB')]),\n",
       "  ('сентября', [('сентябрь', 'NOUN,inan,masc,sing,gent')]),\n",
       "  ('1994', [('1994', 'NUMB')]),\n",
       "  ('года', [('год', 'NOUN,inan,masc,sing,gen1')]),\n",
       "  ('на', [('на', 'PREP')]),\n",
       "  ('Землю', [('земля', 'NOUN,inan,femn,sing,accs')]),\n",
       "  ('должен', [('должен', 'ADJS,masc,sing')]),\n",
       "  ('был', [('есть', 'VERB,impf,intr,masc,sing,past,indc')]),\n",
       "  ('опуститься', [('опуститься', 'INFN,perf,intr')]),\n",
       "  ('Иисус', [('иисус', 'NOUN,anim,masc,Name,sing,nomn')]),\n",
       "  ('Христос', [('христос', 'NOUN,anim,masc,Sgtm,sing,nomn')]),\n",
       "  ('.', [('.', 'PNCT')])],\n",
       " [('Следующее',\n",
       "   [('следующий', 'PRTF,impf,intr,pres,actv,neut,sing,nomn'),\n",
       "    ('следующий', 'PRTF,impf,intr,pres,actv,neut,sing,accs'),\n",
       "    ('следующий', 'ADJF,neut,sing,nomn'),\n",
       "    ('следующий', 'ADJF,neut,sing,accs')]),\n",
       "  ('подобное',\n",
       "   [('подобный', 'ADJF,Subx,Qual,neut,sing,nomn'),\n",
       "    ('подобный', 'ADJF,Subx,Qual,neut,sing,accs')]),\n",
       "  ('мероприятие', [('мероприятие', 'NOUN,inan,neut,sing,nomn')]),\n",
       "  (',', [(',', 'PNCT')]),\n",
       "  ('по', [('по', 'PREP')]),\n",
       "  ('прогнозам', [('прогноз', 'NOUN,inan,masc,plur,datv')]),\n",
       "  ('майя',\n",
       "   [('майя', 'NOUN,anim,GNdr,Ms-f,Fixd,plur,nomn'),\n",
       "    ('майя', 'NOUN,anim,GNdr,Ms-f,Fixd,plur,gent'),\n",
       "    ('майя', 'NOUN,anim,GNdr,Ms-f,Fixd,plur,datv'),\n",
       "    ('майя', 'NOUN,anim,GNdr,Ms-f,Fixd,plur,accs'),\n",
       "    ('майя', 'NOUN,anim,GNdr,Ms-f,Fixd,plur,ablt'),\n",
       "    ('майя', 'NOUN,anim,GNdr,Ms-f,Fixd,plur,loct')]),\n",
       "  (',', [(',', 'PNCT')]),\n",
       "  ('ожидается', [('ожидаюсь', 'VERB,impf,intr,sing,3per,pres,indc')]),\n",
       "  ('21', [('21', 'NUMB')]),\n",
       "  ('декабря', [('декабрь', 'NOUN,inan,masc,sing,gent')]),\n",
       "  ('2012', [('2012', 'NUMB')]),\n",
       "  ('года', [('год', 'NOUN,inan,masc,sing,gen1')]),\n",
       "  (',', [(',', 'PNCT')]),\n",
       "  ('однако', [('однако', 'INTJ'), ('однако', 'CONJ,Prnt')]),\n",
       "  ('не', [('не', 'PRCL')]),\n",
       "  ('следует', [('следую', 'VERB,impf,intr,sing,3per,pres,indc,Impx')]),\n",
       "  ('забывать', [('забывать', 'INFN,impf,tran')]),\n",
       "  (',', [(',', 'PNCT')]),\n",
       "  ('что',\n",
       "   [('что', 'CONJ'),\n",
       "    ('что', 'NPRO,neut,sing,nomn'),\n",
       "    ('что', 'NPRO,neut,sing,accs'),\n",
       "    ('что', 'ADVB,Ques'),\n",
       "    ('что', 'PRCL')]),\n",
       "  ('конец',\n",
       "   [('конец', 'NOUN,inan,masc,sing,nomn'),\n",
       "    ('конец', 'NOUN,inan,masc,sing,accs')]),\n",
       "  ('этой', [('этот', 'ADJF,Subx,Apro,Anph,femn,sing,gent')]),\n",
       "  ('цивилизации', [('цивилизация', 'NOUN,inan,femn,sing,gent')]),\n",
       "  ('наступил', [('наступил', 'VERB,perf,intr,masc,sing,past,indc')]),\n",
       "  ('значительно', [('значительно', 'ADVB')]),\n",
       "  ('раньше', [('раньше', 'COMP')]),\n",
       "  (',', [(',', 'PNCT')]),\n",
       "  ('и', [('и', 'CONJ'), ('и', 'INTJ')]),\n",
       "  ('это',\n",
       "   [('это', 'PRCL'),\n",
       "    ('это', 'NPRO,neut,sing,nomn'),\n",
       "    ('это', 'NPRO,neut,sing,accs'),\n",
       "    ('этот', 'ADJF,Subx,Apro,Anph,neut,sing,nomn'),\n",
       "    ('этот', 'ADJF,Subx,Apro,Anph,neut,sing,accs')]),\n",
       "  ('отчего-то', [('отчего-то', 'ADVB')]),\n",
       "  ('не', [('не', 'PRCL')]),\n",
       "  ('отображено', [('отображён', 'PRTS,perf,past,pssv,neut,sing')]),\n",
       "  ('в', [('в', 'PREP')]),\n",
       "  ('их',\n",
       "   [('их', 'ADJF,Fixd,Apro,Anph,masc,sing,nomn'),\n",
       "    ('их', 'ADJF,Fixd,Apro,Anph,masc,sing,gent'),\n",
       "    ('их', 'ADJF,Fixd,Apro,Anph,masc,sing,datv'),\n",
       "    ('их', 'ADJF,Fixd,Apro,Anph,masc,sing,accs'),\n",
       "    ('их', 'ADJF,Fixd,Apro,Anph,masc,sing,ablt'),\n",
       "    ('их', 'ADJF,Fixd,Apro,Anph,masc,sing,loct'),\n",
       "    ('их', 'ADJF,Fixd,Apro,Anph,femn,sing,nomn'),\n",
       "    ('их', 'ADJF,Fixd,Apro,Anph,femn,sing,gent'),\n",
       "    ('их', 'ADJF,Fixd,Apro,Anph,femn,sing,datv'),\n",
       "    ('их', 'ADJF,Fixd,Apro,Anph,femn,sing,accs'),\n",
       "    ('их', 'ADJF,Fixd,Apro,Anph,femn,sing,ablt'),\n",
       "    ('их', 'ADJF,Fixd,Apro,Anph,femn,sing,loct'),\n",
       "    ('их', 'ADJF,Fixd,Apro,Anph,neut,sing,nomn'),\n",
       "    ('их', 'ADJF,Fixd,Apro,Anph,neut,sing,gent'),\n",
       "    ('их', 'ADJF,Fixd,Apro,Anph,neut,sing,datv'),\n",
       "    ('их', 'ADJF,Fixd,Apro,Anph,neut,sing,accs'),\n",
       "    ('их', 'ADJF,Fixd,Apro,Anph,neut,sing,ablt'),\n",
       "    ('их', 'ADJF,Fixd,Apro,Anph,neut,sing,loct')]),\n",
       "  ('наследии', [('наследие', 'NOUN,inan,neut,sing,loct')]),\n",
       "  (',', [(',', 'PNCT')]),\n",
       "  ('поэтому', [('поэтому', 'ADVB')]),\n",
       "  ('и', [('и', 'CONJ'), ('и', 'INTJ')]),\n",
       "  ('достоверность',\n",
       "   [('достоверность', 'NOUN,inan,femn,sing,nomn'),\n",
       "    ('достоверность', 'NOUN,inan,femn,sing,accs')]),\n",
       "  ('подобного', [('подобный', 'ADJF,Subx,Qual,neut,sing,gent')]),\n",
       "  ('прорицания', [('прорицание', 'NOUN,inan,neut,sing,gent')]),\n",
       "  ('далеко', [('далёк', 'ADJS,Qual,neut,sing'), ('далеко', 'ADVB,Prdx')]),\n",
       "  ('не', [('не', 'PRCL')]),\n",
       "  ('очевидна', [('очевиден', 'ADJS,Qual,femn,sing')]),\n",
       "  ('.', [('.', 'PNCT')])],\n",
       " [('Если', [('если', 'CONJ')]),\n",
       "  ('-', [('-', 'PNCT')]),\n",
       "  ('же', [('же', 'CONJ'), ('же', 'PRCL')]),\n",
       "  ('и', [('и', 'CONJ'), ('и', 'INTJ')]),\n",
       "  ('майя', [('майя', 'NOUN,anim,GNdr,Ms-f,Fixd,plur,nomn')]),\n",
       "  ('ошиблись', [('ошибся', 'VERB,perf,intr,plur,past,indc')]),\n",
       "  (',', [(',', 'PNCT')]),\n",
       "  ('то',\n",
       "   [('то', 'CONJ'),\n",
       "    ('то', 'PRCL'),\n",
       "    ('тот', 'ADJF,Subx,Apro,Anph,neut,sing,nomn'),\n",
       "    ('тот', 'ADJF,Subx,Apro,Anph,neut,sing,accs')]),\n",
       "  ('расслабляться', [('расслабляться', 'INFN,impf,intr')]),\n",
       "  ('всё-равно', [('всё-равно', 'UNKN')]),\n",
       "  ('не', [('не', 'PRCL')]),\n",
       "  ('стоит',\n",
       "   [('стою', 'VERB,impf,tran,sing,3per,pres,indc'),\n",
       "    ('стоило', 'VERB,impf,intr,Impe,sing,pres,indc'),\n",
       "    ('стою', 'VERB,impf,intr,sing,3per,pres,indc')]),\n",
       "  ('.', [('.', 'PNCT')])],\n",
       " [('Апокалиптических', [('апокалиптический', 'ADJF,plur,gent')]),\n",
       "  ('теорий', [('теория', 'NOUN,inan,femn,plur,gent')]),\n",
       "  ('ещё', [('ещё', 'PRCL'), ('ещё', 'ADVB')]),\n",
       "  ('достаточно',\n",
       "   [('достаточно', 'ADVB,Prdx'),\n",
       "    ('достаточен', 'ADJS,Qual,neut,sing'),\n",
       "    ('достаточно', 'NUMR,accs'),\n",
       "    ('достаточно', 'NUMR,nomn')]),\n",
       "  (':', [(':', 'PNCT')])],\n",
       " [('*', [('*', 'PNCT')]),\n",
       "  ('2021', [('2021', 'NUMB')]),\n",
       "  ('год',\n",
       "   [('год', 'NOUN,inan,masc,sing,nomn'), ('год', 'NOUN,inan,masc,sing,accs')]),\n",
       "  ('—', [('—', 'PNCT')]),\n",
       "  ('инверсия', [('инверсия', 'NOUN,inan,femn,sing,nomn')]),\n",
       "  ('магнитного', [('магнитный', 'ADJF,Qual,neut,sing,gent')]),\n",
       "  ('поля', [('поле', 'NOUN,inan,neut,sing,gent')]),\n",
       "  ('Земли', [('земля', 'NOUN,inan,femn,sing,gent')]),\n",
       "  ('уничтожит', [('уничтожил', 'VERB,perf,tran,sing,3per,futr,indc')]),\n",
       "  ('часть', [('часть', 'NOUN,inan,femn,sing,accs')]),\n",
       "  ('человечества', [('человечество', 'NOUN,inan,neut,sing,gent')]),\n",
       "  ('.', [('.', 'PNCT')])],\n",
       " [('*', [('*', 'PNCT')]),\n",
       "  ('2060', [('2060', 'NUMB')]),\n",
       "  ('год',\n",
       "   [('год', 'NOUN,inan,masc,sing,nomn'), ('год', 'NOUN,inan,masc,sing,accs')]),\n",
       "  ('—', [('—', 'PNCT')]),\n",
       "  ('Согласно', [('согласно', 'PREP')]),\n",
       "  ('расчётам', [('расчёт', 'NOUN,inan,masc,plur,datv')]),\n",
       "  ('Исаака', [('исаак', 'NOUN,anim,masc,Name,sing,gent')]),\n",
       "  ('Ньютона',\n",
       "   [('ньютон', 'NOUN,anim,masc,Sgtm,Surn,sing,accs'),\n",
       "    ('ньютон', 'NOUN,anim,masc,Sgtm,Surn,sing,gent')]),\n",
       "  (',', [(',', 'PNCT')]),\n",
       "  ('сделанным', [('сделанный', 'PRTF,perf,tran,past,pssv,plur,datv')]),\n",
       "  ('в', [('в', 'PREP')]),\n",
       "  ('1704', [('1704', 'NUMB')]),\n",
       "  ('году', [('год', 'NOUN,inan,masc,sing,loc2')]),\n",
       "  ('по', [('по', 'PREP')]),\n",
       "  ('библейской', [('библейский', 'ADJF,femn,sing,datv')]),\n",
       "  ('книге', [('книга', 'NOUN,inan,femn,sing,datv')]),\n",
       "  ('Даниила', [('даниил', 'NOUN,anim,masc,Name,sing,gent')]),\n",
       "  ('станет', [('стал', 'VERB,perf,intr,sing,3per,futr,indc')]),\n",
       "  ('последним', [('последний', 'ADJF,masc,sing,ablt')]),\n",
       "  ('для', [('для', 'PREP')]),\n",
       "  ('людей', [('человек', 'NOUN,anim,masc,plur,gent')]),\n",
       "  ('.', [('.', 'PNCT')])],\n",
       " [('*', [('*', 'PNCT')]),\n",
       "  ('2242', [('2242', 'NUMB')]),\n",
       "  ('год', [('год', 'NOUN,inan,masc,sing,nomn')]),\n",
       "  ('—', [('—', 'PNCT')]),\n",
       "  ('конец', [('конец', 'NOUN,inan,masc,sing,nomn')]),\n",
       "  ('эпохи', [('эпоха', 'NOUN,inan,femn,sing,gent')]),\n",
       "  ('Солнца', [('солнце', 'NOUN,inan,neut,sing,gent')]),\n",
       "  ('согласно', [('согласно', 'PREP')]),\n",
       "  ('теории', [('теория', 'NOUN,inan,femn,sing,datv')]),\n",
       "  ('смены', [('смена', 'NOUN,inan,femn,sing,gent')]),\n",
       "  ('планетных', [('планетный', 'ADJF,Qual,plur,gent')]),\n",
       "  ('эпох', [('эпоха', 'NOUN,inan,femn,plur,gent')]),\n",
       "  (',', [(',', 'PNCT')]),\n",
       "  ('которая', [('который', 'ADJF,Apro,Subx,Anph,femn,sing,nomn')]),\n",
       "  ('была', [('есть', 'VERB,impf,intr,femn,sing,past,indc')]),\n",
       "  ('изложена', [('изложен', 'PRTS,perf,past,pssv,femn,sing')]),\n",
       "  ('в', [('в', 'PREP')]),\n",
       "  ('работах', [('работа', 'NOUN,inan,femn,plur,loct')]),\n",
       "  ('ибн', [('ибн', 'PRCL')]),\n",
       "  ('Эзра', [('эзра', 'UNKN')]),\n",
       "  (',', [(',', 'PNCT')]),\n",
       "  ('Авраама', [('авраам', 'NOUN,anim,masc,Name,sing,gent')]),\n",
       "  ('и', [('и', 'CONJ'), ('и', 'INTJ')]),\n",
       "  ('Абу', [('абу', 'NOUN,anim,masc,Sgtm,Fixd,Name,sing,gent')]),\n",
       "  ('Машара', [('машара', 'UNKN')]),\n",
       "  ('.', [('.', 'PNCT')])],\n",
       " [('*', [('*', 'PNCT')]),\n",
       "  ('2892', [('2892', 'NUMB')]),\n",
       "  ('год', [('год', 'NOUN,inan,masc,sing,nomn')]),\n",
       "  ('—', [('—', 'PNCT')]),\n",
       "  ('апокалипсис', [('апокалипсис', 'NOUN,inan,masc,sing,nomn')]),\n",
       "  ('обещанный',\n",
       "   [('обещанный', 'PRTF,perf,tran,past,pssv,masc,sing,nomn'),\n",
       "    ('обещанный', 'PRTF,perf,tran,past,pssv,inan,masc,sing,accs'),\n",
       "    ('обещанный', 'PRTF,impf,tran,past,pssv,masc,sing,nomn'),\n",
       "    ('обещанный', 'PRTF,impf,tran,past,pssv,inan,masc,sing,accs')]),\n",
       "  ('Авелем', [('авель', 'NOUN,anim,masc,Name,sing,ablt')]),\n",
       "  ('.', [('.', 'PNCT')])],\n",
       " [('*', [('*', 'PNCT')]),\n",
       "  ('3797', [('3797', 'NUMB')]),\n",
       "  ('год',\n",
       "   [('год', 'NOUN,inan,masc,sing,nomn'), ('год', 'NOUN,inan,masc,sing,accs')]),\n",
       "  ('—', [('—', 'PNCT')]),\n",
       "  ('кончину', [('кончина', 'NOUN,inan,femn,sing,accs')]),\n",
       "  ('миру', [('мир', 'NOUN,inan,masc,sing,datv')]),\n",
       "  ('предрёк', [('предрёк', 'VERB,perf,tran,masc,sing,past,indc')]),\n",
       "  ('сам',\n",
       "   [('сам', 'ADJF,Apro,masc,sing,nomn'),\n",
       "    ('сам', 'ADJF,Apro,inan,masc,sing,accs')]),\n",
       "  ('Нострадамус', [('нострадамус', 'UNKN')]),\n",
       "  ('.', [('.', 'PNCT')])],\n",
       " [('*', [('*', 'PNCT')]),\n",
       "  ('5079', [('5079', 'NUMB')]),\n",
       "  ('год', [('год', 'NOUN,inan,masc,sing,accs')]),\n",
       "  ('—', [('—', 'PNCT')]),\n",
       "  ('сочла', [('счёл', 'VERB,perf,tran,femn,sing,past,indc')]),\n",
       "  ('последним', [('последний', 'ADJF,masc,sing,ablt')]),\n",
       "  ('всемирно', [('всемирно', 'ADVB'), ('всемирен', 'ADJS,Qual,neut,sing')]),\n",
       "  ('известная', [('известный', 'ADJF,Qual,femn,sing,nomn')]),\n",
       "  ('Ванга', [('Ванга', 'UNKN')]),\n",
       "  ('…', [('…', 'PNCT')])]]"
      ]
     },
     "execution_count": 4,
     "metadata": {},
     "output_type": "execute_result"
    }
   ],
   "source": [
    "corpus.parsed_sents(105)"
   ]
  },
  {
   "cell_type": "markdown",
   "metadata": {},
   "source": [
    "### Посмотрим на контексты слов"
   ]
  },
  {
   "cell_type": "code",
   "execution_count": 5,
   "metadata": {},
   "outputs": [],
   "source": [
    "from nltk.text import Text\n",
    "\n",
    "all_tokens = []\n",
    "for id, name in docs:\n",
    "    all_tokens.extend(corpus.words(id))\n",
    "\n",
    "textCorpus = Text(all_tokens)"
   ]
  },
  {
   "cell_type": "code",
   "execution_count": 6,
   "metadata": {
    "scrolled": true
   },
   "outputs": [
    {
     "name": "stdout",
     "output_type": "stream",
     "text": [
      "Displaying 25 of 66 matches:\n",
      "ого вождя Малиетоа Лаупепу , однако король Лаупепа в 1885 году вступил в откры\n",
      "лавредом , а в 2003-м Боря Ельцин – король вечеринок . Это ***ня . Но кто вам \n",
      "дарных спектаклей « Пчеловоды » и « Король - олень » , « Школа шутов » и « Фил\n",
      "недано ушедший из жизни музыкальный король Майкл Джексон в своё время совершил\n",
      "т всё внутри … 0 — а ведь голый наш король » . Король оказался не только гол ,\n",
      "и … 0 — а ведь голый наш король » . Король оказался не только гол , но и чёрен\n",
      "В 1660-м пуритане власть потеряли и король Чарльз II отменил запрет . Тем не м\n",
      "ая-то . А всем остальным нравится . Король - таки голый , или со мной что-то н\n",
      "оставлены под сомнение . Всем миром Король Испании Хуан Карлос I и президент С\n",
      "щь в тушении российских пожаров . « Король Испании отметил , что Испания , нар\n",
      "личаться милой обстоятельностью ( « Король Файфа » , эпизод « Авария » ) . Взр\n",
      "я шахмат , в которой у белых только король и пешка , но зато они делают два хо\n",
      "ь , вдохновлённый пьесой Шекспира « Король Лир » . Однако это не очередная кла\n",
      " в « Мастерской Петра Фоменко » и « Король Лир » театра « Сатирикон » . Также \n",
      "спектаклям « Мадам Баттерфляй » и « Король Рогер » . « Они предложат сценическ\n",
      "ь людей , – и не велика беда , если король окажется голым . В отрыве от логики\n",
      "иболее угодная Кузнецу \" . Набожный король Бэйлор Благословенный ( правил в 16\n",
      "е ( к примеру , Бейелор Таргариен , король - септон ) . Неудивительно , что дл\n",
      "олись в особенности с Детьми Леса . Король Эррег , прозванный Цареубийцей , пр\n",
      "о том , как Бейелор Благочестивый , король - септон , приказал своему излишне \n",
      "ветственно ) носитель этого имени , Король ( страна ) . И да хранят тебя Семер\n",
      "ечает : \" Да будет так \" и встает . Король поворачивается к своим подданным , \n",
      "има и папы . В 1494 г . французский король Карл VIII вступил в Италию и в нояб\n",
      "с вестью о крестьянском восстании , король и его отряд немедленно выступает , \n",
      "мени Селена . В развязавшейся битве король потерпел поражение и был убит , а с\n"
     ]
    }
   ],
   "source": [
    "textCorpus.concordance('король')"
   ]
  },
  {
   "cell_type": "markdown",
   "metadata": {},
   "source": [
    "Среди токенов есть пунктуация, которая несет мало контекстной информации."
   ]
  },
  {
   "cell_type": "markdown",
   "metadata": {},
   "source": [
    "Так как текстов немного, матрицу term-context можно сделать более плотно заполненной, если использовать нормальзованную форму слов.<br/>\n",
    "В корпусе эта информация уже есть, но если бы не было мы бы могли воспользоваться pymorphy."
   ]
  },
  {
   "cell_type": "code",
   "execution_count": 7,
   "metadata": {
    "scrolled": true
   },
   "outputs": [
    {
     "name": "stdout",
     "output_type": "stream",
     "text": [
      "конец свет который предрекаю проповедник евангелист герольд Кемпинг утром в 06.00 по московский время 21 май 2011 год так и не наступил\n",
      "это далеко не первый несбывшийся предсказание апокалипсис\n",
      "поначалу на он практически не обратил внимание однако с приближение этот дата немало сми в поиск сюжет останавливаюсь на это создавая прекрасный бесплатный PR-компанию для горе-пророка\n",
      "вполне вероятно что герольд Кемпинг объяснил это какой-либо неточность и перенёс катастрофа на некоторый время вперёд и по прежний есть оставаться в центр внимание\n",
      "так согласно его пророчество 6 сентябрь 1994 год на земля должен есть опуститься иисус христос\n",
      "следующий подобный мероприятие по прогноз майя ожидаюсь 21 декабрь 2012 год однако не следую забывать что конец этот цивилизация наступил значительно раньше и это отчего-то не отображён в их наследие поэтому и достоверность подобный прорицание далёк не очевиден\n",
      "если же и майя ошибся то расслабляться всё-равно не стою\n",
      "апокалиптический теория ещё достаточно\n",
      "2021 год инверсия магнитный поле земля уничтожил часть человечество\n",
      "2060 год согласно расчёт исаак ньютон сделанный в 1704 год по библейский книга даниил стал последний для человек\n",
      "2242 год конец эпоха солнце согласно теория смена планетный эпоха который есть изложен в работа ибн эзра авраам и абу машара\n",
      "2892 год апокалипсис обещанный авель\n",
      "3797 год кончина мир предрёк сам нострадамус\n",
      "5079 год счёл последний всемирно известный Ванга\n"
     ]
    }
   ],
   "source": [
    "for id, name in docs[103:104]:\n",
    "    sentences = corpus.parsed_sents(id)\n",
    "    for sentence in sentences:\n",
    "        words = []\n",
    "        for word_info in sentence:\n",
    "            word = word_info[0]\n",
    "            word_norm = word_info[1][0][0]\n",
    "            word_tag = word_info[1][0][1]\n",
    "            if word_tag != 'PNCT':\n",
    "                words.append(word_norm)\n",
    "            #print word, word_norm, word_tag\n",
    "        print(' '.join(words))"
   ]
  },
  {
   "cell_type": "markdown",
   "metadata": {},
   "source": [
    "### Обучим word2vec"
   ]
  },
  {
   "cell_type": "code",
   "execution_count": 8,
   "metadata": {},
   "outputs": [],
   "source": [
    "import codecs, string\n",
    "import pymorphy2\n",
    "\n",
    "\n",
    "with codecs.open('opencorpora_for_word2vec.txt', 'w', encoding='utf-8') as f:\n",
    "    morph = pymorphy2.MorphAnalyzer()\n",
    "    for id, name in docs:\n",
    "        sentences = corpus.parsed_sents(id)\n",
    "        for sentence in sentences:\n",
    "            #sentence = [w.lower() for w in sentence if not w in string.punctuation]\n",
    "            #sentence = [morph.parse(w)[0].normal_form for w in sentence if not w in string.punctuation]\n",
    "            words = []\n",
    "            for word_info in sentence:\n",
    "                word = word_info[0]\n",
    "                word_norm = word_info[1][0][0]\n",
    "                word_tag = word_info[1][0][1]\n",
    "                if word_tag != 'PNCT':\n",
    "                    words.append(word_norm)\n",
    "            f.write(' '.join(words))\n",
    "            f.write('\\n')\n"
   ]
  },
  {
   "cell_type": "code",
   "execution_count": 9,
   "metadata": {},
   "outputs": [
    {
     "name": "stdout",
     "output_type": "stream",
     "text": [
      "школа злословие учу прикусить язык\r\n",
      "сохранился ли градус дискуссия в новый сезон\r\n",
      "великолепный школа злословие вернулся в эфир после летний каникулы в новый формат\r\n",
      "в история программа это уже не первый ребрендинг\r\n",
      "сейчас с труд можно припомнить что начинаюсь школа на канал культура как стандартный ток-шоу который отличаюсь от другой кухонный обсуждение гость что называюсь за глаз и неожиданный персона в качество ведущий\r\n",
      "писательница татьяна толстая и сценаристка дуня смирнова вроде бы не вполне соответствую принятый на российский телевидение стандарт телеведущая\r\n",
      "впрочем на канал культура в роль телеведущая выступаю и писатель и композитор так что в это ничто сверхъестественный не есть а идея кухонный обсуждение не слишком прижился и некоторый выпуск программа обхожусь практически без они\r\n",
      "в остальной школа злословие представляю себя интервью ведущий с герой выпуск\r\n",
      "иногда и в самый дело не без злословие а по больший часть разговор с придыхание например в программа с участие борис берман и ильдар жандарев с который чем дальше тем больше родство наблюдаюсь у ведущий школа\r\n",
      "потом проект переехал с культура на нтв\r\n"
     ]
    }
   ],
   "source": [
    "# Посмотрим, что записалось в файл\n",
    "!head -10 opencorpora_for_word2vec.txt"
   ]
  },
  {
   "cell_type": "code",
   "execution_count": 10,
   "metadata": {},
   "outputs": [],
   "source": [
    "from gensim.models.word2vec import LineSentence, Word2Vec\n",
    "\n",
    "sentences = LineSentence('opencorpora_for_word2vec.txt')"
   ]
  },
  {
   "cell_type": "code",
   "execution_count": 11,
   "metadata": {},
   "outputs": [],
   "source": [
    "import gensim\n",
    "\n",
    "model = Word2Vec(sentences, size=300, window=5, min_count=5, workers=4, iter=20)\n",
    "model.init_sims(replace=True)"
   ]
  },
  {
   "cell_type": "code",
   "execution_count": 12,
   "metadata": {},
   "outputs": [
    {
     "name": "stdout",
     "output_type": "stream",
     "text": [
      "Microsoft 0.7733358144760132\n",
      "Apple 0.7688367366790771\n",
      "Facebook 0.7307254076004028\n",
      "сервис 0.6968520879745483\n",
      "YouTube 0.6810016632080078\n",
      "пользователь 0.6733637452125549\n",
      "яндекс 0.6510469913482666\n",
      "Chrome 0.6478660106658936\n",
      "Yahoo 0.6327301859855652\n",
      "рекламодатель 0.6317338943481445\n"
     ]
    },
    {
     "name": "stderr",
     "output_type": "stream",
     "text": [
      "/home/tylorn/envs/dmia/lib/python3.6/site-packages/ipykernel_launcher.py:1: DeprecationWarning: Call to deprecated `most_similar` (Method will be removed in 4.0.0, use self.wv.most_similar() instead).\n",
      "  \"\"\"Entry point for launching an IPython kernel.\n",
      "/home/tylorn/envs/dmia/lib/python3.6/site-packages/gensim/matutils.py:737: FutureWarning: Conversion of the second argument of issubdtype from `int` to `np.signedinteger` is deprecated. In future, it will be treated as `np.int64 == np.dtype(int).type`.\n",
      "  if np.issubdtype(vec.dtype, np.int):\n"
     ]
    }
   ],
   "source": [
    "for w, sim in model.most_similar(positive=['Google']):\n",
    "    print(w, sim)"
   ]
  },
  {
   "cell_type": "code",
   "execution_count": 13,
   "metadata": {},
   "outputs": [
    {
     "name": "stdout",
     "output_type": "stream",
     "text": [
      "мегафон 0.7228008508682251\n",
      "сотовый 0.7055100798606873\n",
      "мтс 0.6862690448760986\n",
      "билайн 0.6843782663345337\n",
      "роснефть 0.6440812945365906\n",
      "корпорация 0.6438336372375488\n",
      "фирма 0.6420727968215942\n",
      "поставщик 0.6391454339027405\n",
      "абонент 0.6073191165924072\n",
      "акционер 0.603447437286377\n"
     ]
    },
    {
     "name": "stderr",
     "output_type": "stream",
     "text": [
      "/home/tylorn/envs/dmia/lib/python3.6/site-packages/ipykernel_launcher.py:1: DeprecationWarning: Call to deprecated `most_similar` (Method will be removed in 4.0.0, use self.wv.most_similar() instead).\n",
      "  \"\"\"Entry point for launching an IPython kernel.\n",
      "/home/tylorn/envs/dmia/lib/python3.6/site-packages/gensim/matutils.py:737: FutureWarning: Conversion of the second argument of issubdtype from `int` to `np.signedinteger` is deprecated. In future, it will be treated as `np.int64 == np.dtype(int).type`.\n",
      "  if np.issubdtype(vec.dtype, np.int):\n"
     ]
    }
   ],
   "source": [
    "for w, sim in model.most_similar(positive=['оператор']):\n",
    "    print(w, sim)"
   ]
  },
  {
   "cell_type": "code",
   "execution_count": 14,
   "metadata": {},
   "outputs": [
    {
     "name": "stderr",
     "output_type": "stream",
     "text": [
      "/home/tylorn/envs/dmia/lib/python3.6/site-packages/ipykernel_launcher.py:1: DeprecationWarning: Call to deprecated `most_similar` (Method will be removed in 4.0.0, use self.wv.most_similar() instead).\n",
      "  \"\"\"Entry point for launching an IPython kernel.\n",
      "/home/tylorn/envs/dmia/lib/python3.6/site-packages/gensim/matutils.py:737: FutureWarning: Conversion of the second argument of issubdtype from `int` to `np.signedinteger` is deprecated. In future, it will be treated as `np.int64 == np.dtype(int).type`.\n",
      "  if np.issubdtype(vec.dtype, np.int):\n"
     ]
    },
    {
     "name": "stdout",
     "output_type": "stream",
     "text": [
      "девочка 0.6111050844192505\n",
      "старик 0.5812318921089172\n",
      "сестра 0.5790057182312012\n",
      "дядя 0.564658522605896\n",
      "дама 0.5566304326057434\n",
      "томек 0.5463043451309204\n",
      "саша 0.5431455969810486\n",
      "муж 0.5385066270828247\n",
      "старушка 0.5378419160842896\n",
      "барыня 0.5378360748291016\n"
     ]
    }
   ],
   "source": [
    "for w, sim in model.most_similar(positive=['мальчик', 'женщина'], negative=['мужчина']):\n",
    "    print(w, sim)"
   ]
  },
  {
   "cell_type": "code",
   "execution_count": 15,
   "metadata": {},
   "outputs": [
    {
     "name": "stdout",
     "output_type": "stream",
     "text": [
      "сидеть 0.6498598456382751\n",
      "бегать 0.6198238730430603\n",
      "учиться 0.6178407669067383\n",
      "танцевать 0.6153303980827332\n",
      "слушать 0.6115636825561523\n",
      "стоять 0.6080521941184998\n",
      "этак 0.6042578220367432\n",
      "взад 0.600244402885437\n",
      "гулять 0.5944511890411377\n",
      "спокойно 0.5908673405647278\n"
     ]
    },
    {
     "name": "stderr",
     "output_type": "stream",
     "text": [
      "/home/tylorn/envs/dmia/lib/python3.6/site-packages/ipykernel_launcher.py:1: DeprecationWarning: Call to deprecated `most_similar` (Method will be removed in 4.0.0, use self.wv.most_similar() instead).\n",
      "  \"\"\"Entry point for launching an IPython kernel.\n",
      "/home/tylorn/envs/dmia/lib/python3.6/site-packages/gensim/matutils.py:737: FutureWarning: Conversion of the second argument of issubdtype from `int` to `np.signedinteger` is deprecated. In future, it will be treated as `np.int64 == np.dtype(int).type`.\n",
      "  if np.issubdtype(vec.dtype, np.int):\n"
     ]
    }
   ],
   "source": [
    "for w, sim in model.most_similar(positive=['ходить']):\n",
    "    print(w, sim)"
   ]
  },
  {
   "cell_type": "code",
   "execution_count": 16,
   "metadata": {
    "scrolled": true
   },
   "outputs": [
    {
     "name": "stdout",
     "output_type": "stream",
     "text": [
      "сестра 0.6683633327484131\n",
      "мэри 0.6056320667266846\n",
      "сын 0.6004716157913208\n",
      "дочь 0.6002380847930908\n",
      "двоюродный 0.5924419164657593\n",
      "супруга 0.579126238822937\n",
      "принцесса 0.5668215751647949\n",
      "младший 0.565616250038147\n",
      "дочка 0.5553632378578186\n",
      "внук 0.5540353059768677\n"
     ]
    },
    {
     "name": "stderr",
     "output_type": "stream",
     "text": [
      "/home/tylorn/envs/dmia/lib/python3.6/site-packages/ipykernel_launcher.py:1: DeprecationWarning: Call to deprecated `most_similar` (Method will be removed in 4.0.0, use self.wv.most_similar() instead).\n",
      "  \"\"\"Entry point for launching an IPython kernel.\n",
      "/home/tylorn/envs/dmia/lib/python3.6/site-packages/gensim/matutils.py:737: FutureWarning: Conversion of the second argument of issubdtype from `int` to `np.signedinteger` is deprecated. In future, it will be treated as `np.int64 == np.dtype(int).type`.\n",
      "  if np.issubdtype(vec.dtype, np.int):\n"
     ]
    }
   ],
   "source": [
    "for w, sim in model.most_similar(positive=[u'брат', u'жена'], negative=[u'муж']):\n",
    "    print(w, sim)"
   ]
  },
  {
   "cell_type": "code",
   "execution_count": 17,
   "metadata": {
    "scrolled": true
   },
   "outputs": [
    {
     "name": "stdout",
     "output_type": "stream",
     "text": [
      "машина\n"
     ]
    },
    {
     "name": "stderr",
     "output_type": "stream",
     "text": [
      "/home/tylorn/envs/dmia/lib/python3.6/site-packages/ipykernel_launcher.py:1: DeprecationWarning: Call to deprecated `doesnt_match` (Method will be removed in 4.0.0, use self.wv.doesnt_match() instead).\n",
      "  \"\"\"Entry point for launching an IPython kernel.\n",
      "/home/tylorn/envs/dmia/lib/python3.6/site-packages/gensim/matutils.py:737: FutureWarning: Conversion of the second argument of issubdtype from `int` to `np.signedinteger` is deprecated. In future, it will be treated as `np.int64 == np.dtype(int).type`.\n",
      "  if np.issubdtype(vec.dtype, np.int):\n"
     ]
    }
   ],
   "source": [
    "print(model.doesnt_match(\"книга журнал машина\".split()))"
   ]
  },
  {
   "cell_type": "code",
   "execution_count": 18,
   "metadata": {},
   "outputs": [
    {
     "name": "stderr",
     "output_type": "stream",
     "text": [
      "/home/tylorn/envs/dmia/lib/python3.6/site-packages/ipykernel_launcher.py:1: DeprecationWarning: Call to deprecated `similarity` (Method will be removed in 4.0.0, use self.wv.similarity() instead).\n",
      "  \"\"\"Entry point for launching an IPython kernel.\n",
      "/home/tylorn/envs/dmia/lib/python3.6/site-packages/gensim/matutils.py:737: FutureWarning: Conversion of the second argument of issubdtype from `int` to `np.signedinteger` is deprecated. In future, it will be treated as `np.int64 == np.dtype(int).type`.\n",
      "  if np.issubdtype(vec.dtype, np.int):\n"
     ]
    },
    {
     "data": {
      "text/plain": [
       "0.13313232"
      ]
     },
     "execution_count": 18,
     "metadata": {},
     "output_type": "execute_result"
    }
   ],
   "source": [
    "model.similarity('книга', 'телефон')"
   ]
  },
  {
   "cell_type": "code",
   "execution_count": 19,
   "metadata": {},
   "outputs": [
    {
     "name": "stderr",
     "output_type": "stream",
     "text": [
      "/home/tylorn/envs/dmia/lib/python3.6/site-packages/ipykernel_launcher.py:1: DeprecationWarning: Call to deprecated `__getitem__` (Method will be removed in 4.0.0, use self.wv.__getitem__() instead).\n",
      "  \"\"\"Entry point for launching an IPython kernel.\n"
     ]
    },
    {
     "data": {
      "text/plain": [
       "array([-0.0242616 ,  0.02658006, -0.00249151, -0.10567036, -0.03770078,\n",
       "        0.00359159,  0.07194454,  0.05467488, -0.04118169, -0.10851707,\n",
       "       -0.00167334,  0.07419596,  0.04268392, -0.02159388, -0.05352156,\n",
       "        0.01935973,  0.07914834, -0.0097222 , -0.05140994,  0.05089401,\n",
       "        0.00347668,  0.05737204, -0.03051436,  0.0306374 , -0.00697271,\n",
       "        0.02392966,  0.0955827 ,  0.04400755, -0.00113303, -0.01479197,\n",
       "       -0.06282092, -0.09184636,  0.03925015,  0.15835634, -0.02344829,\n",
       "        0.03895782,  0.01301008,  0.02830101,  0.06580176,  0.04709809,\n",
       "        0.05425551,  0.05289546, -0.04516783,  0.04024826, -0.05966172,\n",
       "        0.00184173,  0.01884853,  0.0003376 ,  0.01524585, -0.03286644,\n",
       "       -0.08436275,  0.02103208,  0.06744386,  0.03832787, -0.05111707,\n",
       "       -0.00148062, -0.02969595,  0.02305269, -0.07319619, -0.00449917,\n",
       "        0.08505154,  0.0830898 ,  0.02670067, -0.03632951, -0.02581454,\n",
       "       -0.0018978 ,  0.04487599, -0.08965686,  0.06032377, -0.08780697,\n",
       "       -0.01043167,  0.045706  , -0.09416744, -0.03060621,  0.03746708,\n",
       "       -0.00992826,  0.00672625, -0.05881813, -0.06898881,  0.04956786,\n",
       "        0.01058833,  0.01732362, -0.08770606, -0.03217564,  0.06559039,\n",
       "        0.11580611,  0.00186844,  0.09872171, -0.02411702,  0.05319318,\n",
       "        0.07072797,  0.04517515,  0.16790406,  0.0149453 ,  0.0183041 ,\n",
       "        0.0526395 , -0.03174837, -0.01265819,  0.0015209 , -0.00766428,\n",
       "       -0.04471983, -0.02650159, -0.02946021,  0.09508593,  0.07872416,\n",
       "        0.08953516,  0.04577473,  0.05483807, -0.11569414, -0.02045697,\n",
       "        0.0327648 ,  0.00670534, -0.05804963,  0.0537285 ,  0.01095131,\n",
       "       -0.07520103, -0.00460703,  0.06730263,  0.06489552,  0.07820431,\n",
       "        0.03438589,  0.05544645,  0.0088658 , -0.08466118, -0.0079225 ,\n",
       "        0.04123687,  0.00699844, -0.05323236, -0.03589841, -0.0315494 ,\n",
       "        0.01728309, -0.0816353 , -0.01461627,  0.06828684,  0.03054308,\n",
       "       -0.04680867,  0.13650587,  0.00158646, -0.04952864, -0.02545901,\n",
       "       -0.00574512, -0.02819433, -0.0530797 , -0.02922882, -0.00817483,\n",
       "       -0.06895064,  0.02265242,  0.02506468, -0.04108822, -0.04066762,\n",
       "       -0.09700068, -0.04462241, -0.0169839 ,  0.04082235, -0.02325537,\n",
       "        0.05108866, -0.06619783, -0.11947756,  0.14854912,  0.09276918,\n",
       "        0.03143263, -0.02506064,  0.11670415, -0.0190743 ,  0.01659824,\n",
       "       -0.00641181,  0.01523837,  0.09298823,  0.00575693, -0.00904047,\n",
       "        0.09184233,  0.0322298 ,  0.01486968,  0.1350739 , -0.00542903,\n",
       "       -0.07241658, -0.04634165,  0.01657855, -0.0189845 ,  0.05480246,\n",
       "        0.08241462, -0.02923616,  0.00601953,  0.09612127, -0.12657328,\n",
       "       -0.03286959, -0.00922708,  0.09287711, -0.04551921,  0.0082494 ,\n",
       "        0.10755681, -0.10518607,  0.00313718,  0.16119446, -0.03133608,\n",
       "       -0.02574273, -0.08923633, -0.05830299,  0.07055094, -0.0039074 ,\n",
       "        0.06906027,  0.00925936,  0.00291423,  0.04740985,  0.07979929,\n",
       "       -0.01204959, -0.0222677 , -0.04535758,  0.05421208, -0.00958504,\n",
       "       -0.04502382, -0.01601304, -0.06801362,  0.1034781 ,  0.10588046,\n",
       "        0.05161359,  0.0399549 ,  0.0419089 ,  0.01398793,  0.03811774,\n",
       "        0.0037882 , -0.03389081, -0.01117516, -0.08726494,  0.12798534,\n",
       "       -0.01231082, -0.10965821,  0.07639703, -0.08613184,  0.09388962,\n",
       "        0.00441907, -0.05144551,  0.01488881,  0.07692834, -0.01127769,\n",
       "        0.11920682,  0.09004937, -0.05748824, -0.0425416 , -0.01168927,\n",
       "       -0.04668523, -0.03892438,  0.00741354,  0.05292263,  0.04715248,\n",
       "        0.01854558, -0.03299583, -0.03238739,  0.06042378, -0.07079029,\n",
       "       -0.02068773, -0.03051885,  0.01654057,  0.05750858,  0.08015437,\n",
       "       -0.02625434, -0.08388523,  0.08115201,  0.07713502,  0.09433166,\n",
       "        0.03687358, -0.03207976, -0.04130744, -0.10256558, -0.10512589,\n",
       "       -0.03095846, -0.00951962,  0.01352282,  0.06826919, -0.00889421,\n",
       "        0.01856215,  0.02757425,  0.00762871, -0.03537503,  0.06785826,\n",
       "        0.03906699, -0.0504748 ,  0.02461513,  0.02960768, -0.0477257 ,\n",
       "       -0.06993001, -0.05622132, -0.05307908,  0.05756204,  0.00203561,\n",
       "        0.01053685, -0.06958456,  0.00965229, -0.01520592,  0.02343795,\n",
       "       -0.00916885,  0.01903251,  0.04309138,  0.09636167, -0.06302807,\n",
       "       -0.05498353, -0.10015803,  0.06911856,  0.00063219,  0.01578952],\n",
       "      dtype=float32)"
      ]
     },
     "execution_count": 19,
     "metadata": {},
     "output_type": "execute_result"
    }
   ],
   "source": [
    "model['книга']"
   ]
  },
  {
   "cell_type": "code",
   "execution_count": null,
   "metadata": {},
   "outputs": [],
   "source": []
  }
 ],
 "metadata": {
  "kernelspec": {
   "display_name": "Python 3",
   "language": "python",
   "name": "python3"
  },
  "language_info": {
   "codemirror_mode": {
    "name": "ipython",
    "version": 3
   },
   "file_extension": ".py",
   "mimetype": "text/x-python",
   "name": "python",
   "nbconvert_exporter": "python",
   "pygments_lexer": "ipython3",
   "version": "3.6.5"
  }
 },
 "nbformat": 4,
 "nbformat_minor": 1
}
