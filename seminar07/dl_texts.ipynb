{
 "cells": [
  {
   "cell_type": "code",
   "execution_count": null,
   "metadata": {
    "ExecuteTime": {
     "end_time": "2018-12-04T23:23:56.348805Z",
     "start_time": "2018-12-04T23:23:56.333578Z"
    }
   },
   "outputs": [],
   "source": [
    "import os\n",
    "import heapq\n",
    "\n",
    "import ssl\n",
    "import tqdm\n",
    "import numpy as np\n",
    "import matplotlib.pyplot as plt\n",
    "import tensorflow as tf\n",
    "\n",
    "from IPython.display import SVG, Image\n",
    "from sklearn.metrics import accuracy_score\n",
    "from sklearn.linear_model import LogisticRegression\n",
    "from sklearn.feature_extraction.text import CountVectorizer, TfidfTransformer\n",
    "from keras.datasets import imdb\n",
    "from keras.models import Sequential\n",
    "from keras.layers import Dense, Dropout, Embedding, GlobalAveragePooling1D\n",
    "from keras.optimizers import Adam\n",
    "from keras.utils.vis_utils import model_to_dot\n",
    "from keras.preprocessing.sequence import pad_sequences"
   ]
  },
  {
   "cell_type": "code",
   "execution_count": null,
   "metadata": {
    "ExecuteTime": {
     "end_time": "2018-12-04T22:29:30.724753Z",
     "start_time": "2018-12-04T22:29:30.717882Z"
    }
   },
   "outputs": [],
   "source": [
    "ssl._create_default_https_context = ssl._create_unverified_context"
   ]
  },
  {
   "cell_type": "markdown",
   "metadata": {},
   "source": [
    "# Скачаем данные и посмотрим на них"
   ]
  },
  {
   "cell_type": "markdown",
   "metadata": {},
   "source": [
    "Мы будем использовать imdb, подробнее про него можно прочитать тут: https://keras.io/datasets/."
   ]
  },
  {
   "cell_type": "code",
   "execution_count": null,
   "metadata": {
    "ExecuteTime": {
     "end_time": "2018-12-04T22:29:36.842914Z",
     "start_time": "2018-12-04T22:29:30.790559Z"
    }
   },
   "outputs": [],
   "source": [
    "vocab_size = 10000\n",
    "\n",
    "(x_train, y_train), (x_test, y_test) = imdb.load_data(path=\"imdb.npz\",\n",
    "                                                      num_words=vocab_size,\n",
    "                                                      skip_top=0,\n",
    "                                                      maxlen=None,\n",
    "                                                      seed=113,\n",
    "                                                      start_char=1,\n",
    "                                                      oov_char=2,\n",
    "                                                      index_from=3)\n",
    "\n",
    "word_2_index = imdb.get_word_index()"
   ]
  },
  {
   "cell_type": "code",
   "execution_count": null,
   "metadata": {
    "ExecuteTime": {
     "end_time": "2018-12-04T22:29:37.131403Z",
     "start_time": "2018-12-04T22:29:37.080590Z"
    }
   },
   "outputs": [],
   "source": [
    "word_2_index = {k:(v+3) for k,v in word_2_index.items()} \n",
    "word_2_index[\"<PAD>\"] = 0\n",
    "word_2_index[\"<START>\"] = 1\n",
    "word_2_index[\"<UNK>\"] = 2\n",
    "word_2_index[\"<UNUSED>\"] = 3\n",
    "\n",
    "index_2_word = {value: key for key, value in word_2_index.items()}"
   ]
  },
  {
   "cell_type": "code",
   "execution_count": null,
   "metadata": {
    "ExecuteTime": {
     "end_time": "2018-12-04T22:40:55.462628Z",
     "start_time": "2018-12-04T22:40:55.456773Z"
    }
   },
   "outputs": [],
   "source": [
    "print('Index \"100\" to word = {}'.format(index_2_word[100]))\n",
    "print('Word \"could\" to index = {}'.format(word_2_index['could']))"
   ]
  },
  {
   "cell_type": "code",
   "execution_count": null,
   "metadata": {
    "ExecuteTime": {
     "end_time": "2018-12-04T22:29:37.551019Z",
     "start_time": "2018-12-04T22:29:37.545426Z"
    }
   },
   "outputs": [],
   "source": [
    "def decode_review(text):\n",
    "    return ' '.join([index_2_word.get(i, '?') for i in text])"
   ]
  },
  {
   "cell_type": "code",
   "execution_count": null,
   "metadata": {
    "ExecuteTime": {
     "end_time": "2018-12-04T22:40:31.160755Z",
     "start_time": "2018-12-04T22:40:31.154666Z"
    }
   },
   "outputs": [],
   "source": [
    "print(decode_review(x_train[0]))\n",
    "print('')\n",
    "print('Label = {}'.format(y_train[0]))"
   ]
  },
  {
   "cell_type": "code",
   "execution_count": null,
   "metadata": {
    "ExecuteTime": {
     "end_time": "2018-12-04T22:29:41.999257Z",
     "start_time": "2018-12-04T22:29:38.330605Z"
    }
   },
   "outputs": [],
   "source": [
    "print('Decoded texts for train set')\n",
    "x_train_decoded = []\n",
    "for review in tqdm.tqdm_notebook(x_train):\n",
    "    decoded_review = decode_review(review)\n",
    "    x_train_decoded.append(decoded_review)\n",
    "\n",
    "print('Decoded texts for test set')\n",
    "x_test_decoded = []\n",
    "for review in tqdm.tqdm_notebook(x_test):\n",
    "    decoded_review = decode_review(review)\n",
    "    x_test_decoded.append(decoded_review)"
   ]
  },
  {
   "cell_type": "markdown",
   "metadata": {},
   "source": [
    "# Классическая обработка текстов"
   ]
  },
  {
   "cell_type": "markdown",
   "metadata": {},
   "source": [
    "Для векторизации текстов воспользуемся CountVectorizer, он представляет документ как мешок слов. Можно всячески варировать извлечение признаков (убирать редкие слова, убирать частые слова, убирать слова общей лексики, брать биграмы и т.д.)"
   ]
  },
  {
   "cell_type": "code",
   "execution_count": null,
   "metadata": {
    "ExecuteTime": {
     "end_time": "2018-12-04T22:34:44.626554Z",
     "start_time": "2018-12-04T22:34:44.619376Z"
    }
   },
   "outputs": [],
   "source": [
    "Image('../seminar03/pics/bag_of_words.png', width=600)"
   ]
  },
  {
   "cell_type": "code",
   "execution_count": null,
   "metadata": {
    "ExecuteTime": {
     "end_time": "2018-12-04T22:31:13.750650Z",
     "start_time": "2018-12-04T22:31:13.626662Z"
    }
   },
   "outputs": [],
   "source": [
    "count_vectorizer = CountVectorizer(min_df=1,\n",
    "                                   ngram_range=(1, 1))"
   ]
  },
  {
   "cell_type": "markdown",
   "metadata": {},
   "source": [
    "Мы будем работать с эффективным представлением матриц \"Compressed Sparse Row Format\" (CSR). Почитать о формате можно здесь: https://en.wikipedia.org/wiki/Sparse_matrix#Compressed_sparse_row_(CSR,_CRS_or_Yale_format)"
   ]
  },
  {
   "cell_type": "code",
   "execution_count": null,
   "metadata": {
    "ExecuteTime": {
     "end_time": "2018-12-04T22:31:28.041160Z",
     "start_time": "2018-12-04T22:31:18.533129Z"
    }
   },
   "outputs": [],
   "source": [
    "x_train_bow = count_vectorizer.fit_transform(x_train_decoded)\n",
    "x_test_bow = count_vectorizer.transform(x_test_decoded)"
   ]
  },
  {
   "cell_type": "code",
   "execution_count": null,
   "metadata": {
    "ExecuteTime": {
     "end_time": "2018-12-04T22:31:32.078217Z",
     "start_time": "2018-12-04T22:31:32.072345Z"
    }
   },
   "outputs": [],
   "source": [
    "print('Shape of train sample in BoW format', x_train_bow.shape)\n",
    "print('Shape of test sample in BoW format', x_test_bow.shape)"
   ]
  },
  {
   "cell_type": "code",
   "execution_count": null,
   "metadata": {
    "ExecuteTime": {
     "end_time": "2018-12-04T22:43:46.062594Z",
     "start_time": "2018-12-04T22:43:46.056886Z"
    }
   },
   "outputs": [],
   "source": [
    "index_2_word_logreg = {\n",
    "    v: k\n",
    "    for k, v in count_vectorizer.vocabulary_.items()\n",
    "}"
   ]
  },
  {
   "cell_type": "markdown",
   "metadata": {},
   "source": [
    "### Обучим логистическую регрессию предсказывать тональность отзыва на признаках Bag-of-Words"
   ]
  },
  {
   "cell_type": "code",
   "execution_count": null,
   "metadata": {
    "ExecuteTime": {
     "end_time": "2018-12-04T22:31:36.457150Z",
     "start_time": "2018-12-04T22:31:36.453862Z"
    }
   },
   "outputs": [],
   "source": [
    "model_logreg = LogisticRegression()"
   ]
  },
  {
   "cell_type": "code",
   "execution_count": null,
   "metadata": {
    "ExecuteTime": {
     "end_time": "2018-12-04T22:31:50.801063Z",
     "start_time": "2018-12-04T22:31:40.731296Z"
    }
   },
   "outputs": [],
   "source": [
    "model_logreg.fit(x_train_bow, y_train)"
   ]
  },
  {
   "cell_type": "markdown",
   "metadata": {},
   "source": [
    "###  Попробуем проинтерпретировать коэффициенты модели"
   ]
  },
  {
   "cell_type": "code",
   "execution_count": null,
   "metadata": {
    "ExecuteTime": {
     "end_time": "2018-12-04T22:44:15.283194Z",
     "start_time": "2018-12-04T22:44:15.258703Z"
    }
   },
   "outputs": [],
   "source": [
    "W = model_logreg.coef_.shape[1]\n",
    "NUM_WORDS = 10\n",
    "class_2_function = {'Negative': heapq.nsmallest, 'Positive': heapq.nlargest}\n",
    "\n",
    "for category, function in class_2_function.items():\n",
    "    topic_words = [\n",
    "        index_2_word_logreg[w_num]\n",
    "        for w_num in function(NUM_WORDS, range(W),\n",
    "                              key=lambda w: model_logreg.coef_[0, w])\n",
    "    ]\n",
    "    print(category)\n",
    "    print(', '.join(topic_words))"
   ]
  },
  {
   "cell_type": "markdown",
   "metadata": {},
   "source": [
    "### Оценим качество"
   ]
  },
  {
   "cell_type": "code",
   "execution_count": null,
   "metadata": {
    "ExecuteTime": {
     "end_time": "2018-12-04T22:31:54.938372Z",
     "start_time": "2018-12-04T22:31:54.920835Z"
    }
   },
   "outputs": [],
   "source": [
    "preds_logreg = model_logreg.predict(x_test_bow)"
   ]
  },
  {
   "cell_type": "code",
   "execution_count": null,
   "metadata": {
    "ExecuteTime": {
     "end_time": "2018-12-04T22:49:19.248652Z",
     "start_time": "2018-12-04T22:49:19.226186Z"
    }
   },
   "outputs": [],
   "source": [
    "print('Train accuracy', accuracy_score(\n",
    "    model_logreg.predict(x_train_bow),\n",
    "    y_train\n",
    "))\n",
    "print('Test accuracy', accuracy_score(preds_logreg, y_test))"
   ]
  },
  {
   "cell_type": "markdown",
   "metadata": {},
   "source": [
    "### Попробуем TF-IDF"
   ]
  },
  {
   "cell_type": "code",
   "execution_count": null,
   "metadata": {
    "ExecuteTime": {
     "end_time": "2018-12-04T22:45:49.809134Z",
     "start_time": "2018-12-04T22:45:49.802673Z"
    }
   },
   "outputs": [],
   "source": [
    "Image('../seminar03/pics/tfidf.png')"
   ]
  },
  {
   "cell_type": "markdown",
   "metadata": {},
   "source": [
    "Подробнее про tf-idf можно прочитать здесь: https://ru.wikipedia.org/wiki/TF-IDF"
   ]
  },
  {
   "cell_type": "code",
   "execution_count": null,
   "metadata": {
    "ExecuteTime": {
     "end_time": "2018-12-04T22:32:04.092592Z",
     "start_time": "2018-12-04T22:32:04.089155Z"
    }
   },
   "outputs": [],
   "source": [
    "tf_idf_transformer = TfidfTransformer()"
   ]
  },
  {
   "cell_type": "code",
   "execution_count": null,
   "metadata": {
    "ExecuteTime": {
     "end_time": "2018-12-04T22:32:08.515273Z",
     "start_time": "2018-12-04T22:32:08.334937Z"
    }
   },
   "outputs": [],
   "source": [
    "x_train_tfidf = tf_idf_transformer.fit_transform(x_train_bow)\n",
    "x_test_tfidf = tf_idf_transformer.transform(x_test_bow)"
   ]
  },
  {
   "cell_type": "markdown",
   "metadata": {},
   "source": [
    "### Обучим логистическую регрессию предсказывать тональность отзыва на признаках TF-IDF"
   ]
  },
  {
   "cell_type": "code",
   "execution_count": null,
   "metadata": {
    "ExecuteTime": {
     "end_time": "2018-12-04T22:32:12.934313Z",
     "start_time": "2018-12-04T22:32:12.930763Z"
    }
   },
   "outputs": [],
   "source": [
    "model_logreg_tfidf = LogisticRegression()"
   ]
  },
  {
   "cell_type": "code",
   "execution_count": null,
   "metadata": {
    "ExecuteTime": {
     "end_time": "2018-12-04T22:32:18.641913Z",
     "start_time": "2018-12-04T22:32:17.608693Z"
    }
   },
   "outputs": [],
   "source": [
    "model_logreg_tfidf.fit(x_train_tfidf, y_train)"
   ]
  },
  {
   "cell_type": "code",
   "execution_count": null,
   "metadata": {
    "ExecuteTime": {
     "end_time": "2018-12-04T22:48:54.056734Z",
     "start_time": "2018-12-04T22:48:54.045929Z"
    }
   },
   "outputs": [],
   "source": [
    "preds_logreg_tfidf = model_logreg_tfidf.predict(x_test_tfidf)"
   ]
  },
  {
   "cell_type": "markdown",
   "metadata": {},
   "source": [
    "### Оценим качество"
   ]
  },
  {
   "cell_type": "code",
   "execution_count": null,
   "metadata": {
    "ExecuteTime": {
     "end_time": "2018-12-04T22:49:04.820521Z",
     "start_time": "2018-12-04T22:49:04.803344Z"
    }
   },
   "outputs": [],
   "source": [
    "print('Train accuracy', accuracy_score(\n",
    "    model_logreg_tfidf.predict(x_train_tfidf),\n",
    "    y_train\n",
    "))\n",
    "print('Test accuracy', accuracy_score(preds_logreg_tfidf, y_test))"
   ]
  },
  {
   "cell_type": "markdown",
   "metadata": {},
   "source": [
    "# Глубокое обучение в обработке текстов"
   ]
  },
  {
   "cell_type": "markdown",
   "metadata": {},
   "source": [
    "Код частично взят из примеров TensorFlow: https://www.tensorflow.org/tutorials/keras/basic_text_classification"
   ]
  },
  {
   "cell_type": "markdown",
   "metadata": {},
   "source": [
    "Нужно привести все тексты к одной длине, чтобы их можно было объединять в батчи для статичных графов. Неплохое сравнение динамических и статичных графов можно найти тут: https://stackoverflow.com/questions/46154189/what-is-the-difference-of-static-computational-graphs-in-tensorflow-and-dynamic."
   ]
  },
  {
   "cell_type": "code",
   "execution_count": null,
   "metadata": {
    "ExecuteTime": {
     "end_time": "2018-12-04T22:55:42.338326Z",
     "start_time": "2018-12-04T22:55:41.378555Z"
    }
   },
   "outputs": [],
   "source": [
    "x_train_pad = pad_sequences(x_train,\n",
    "                            value=word_2_index[\"<PAD>\"],\n",
    "                            padding='post',\n",
    "                            maxlen=256)\n",
    "\n",
    "x_test_pad = pad_sequences(x_test,\n",
    "                           value=word_2_index[\"<PAD>\"],\n",
    "                           padding='post',\n",
    "                           maxlen=256)"
   ]
  },
  {
   "cell_type": "markdown",
   "metadata": {},
   "source": [
    "### Определим модель и обучим ее"
   ]
  },
  {
   "cell_type": "markdown",
   "metadata": {},
   "source": [
    "Модель будет очень простой, мы вставим Embedding слой, который будет давать каждому слову в тексте сжатую репрезентацию, то есть будет переводить его из размерности vocab_size в размерность 16. Далее GlobalAveragePooling1D слой будет усреднять репрезентации всех слов в тексте. На основе усредненной репрезентации маленький перцептрон будет проводить классификацию."
   ]
  },
  {
   "cell_type": "code",
   "execution_count": null,
   "metadata": {
    "ExecuteTime": {
     "end_time": "2018-12-04T23:14:33.241325Z",
     "start_time": "2018-12-04T23:14:33.234678Z"
    },
    "scrolled": true
   },
   "outputs": [],
   "source": [
    "Image('pics/matrix_mult_w_one_hot.png')"
   ]
  },
  {
   "cell_type": "markdown",
   "metadata": {},
   "source": [
    "Установим сиды, чтобы получать воспроизводимые результаты."
   ]
  },
  {
   "cell_type": "code",
   "execution_count": null,
   "metadata": {
    "ExecuteTime": {
     "end_time": "2018-12-04T23:24:01.662180Z",
     "start_time": "2018-12-04T23:24:01.656480Z"
    }
   },
   "outputs": [],
   "source": [
    "np.random.seed(2)\n",
    "tf.set_random_seed(2)"
   ]
  },
  {
   "cell_type": "code",
   "execution_count": null,
   "metadata": {
    "ExecuteTime": {
     "end_time": "2018-12-04T22:57:40.033479Z",
     "start_time": "2018-12-04T22:57:39.942005Z"
    }
   },
   "outputs": [],
   "source": [
    "model_dl = Sequential()\n",
    "model_dl.add(Embedding(vocab_size, 16))\n",
    "model_dl.add(GlobalAveragePooling1D())\n",
    "model_dl.add(Dense(units=16, activation='relu'))\n",
    "model_dl.add(Dropout(0.5))\n",
    "model_dl.add(Dense(units=1, activation='sigmoid'))"
   ]
  },
  {
   "cell_type": "code",
   "execution_count": null,
   "metadata": {
    "ExecuteTime": {
     "end_time": "2018-12-04T22:57:44.668290Z",
     "start_time": "2018-12-04T22:57:44.658722Z"
    }
   },
   "outputs": [],
   "source": [
    "model_dl.summary()"
   ]
  },
  {
   "cell_type": "code",
   "execution_count": null,
   "metadata": {
    "ExecuteTime": {
     "end_time": "2018-12-04T23:05:58.823403Z",
     "start_time": "2018-12-04T23:05:58.706224Z"
    }
   },
   "outputs": [],
   "source": [
    "SVG(model_to_dot(model_dl).create(prog='dot', format='svg'))"
   ]
  },
  {
   "cell_type": "code",
   "execution_count": null,
   "metadata": {
    "ExecuteTime": {
     "end_time": "2018-12-04T22:57:49.865655Z",
     "start_time": "2018-12-04T22:57:49.752731Z"
    }
   },
   "outputs": [],
   "source": [
    "opt = Adam(lr=0.001)\n",
    "\n",
    "model_dl.compile(optimizer=opt,\n",
    "                 loss='binary_crossentropy',\n",
    "                 metrics=['accuracy'])"
   ]
  },
  {
   "cell_type": "code",
   "execution_count": null,
   "metadata": {
    "ExecuteTime": {
     "end_time": "2018-12-04T22:58:19.680319Z",
     "start_time": "2018-12-04T22:57:55.033253Z"
    },
    "scrolled": true
   },
   "outputs": [],
   "source": [
    "history = model_dl.fit(x=x_train_pad,\n",
    "                       y=y_train,\n",
    "                       epochs=20,\n",
    "                       batch_size=512,\n",
    "                       validation_data=(x_test_pad, y_test),\n",
    "                       verbose=1)"
   ]
  },
  {
   "cell_type": "code",
   "execution_count": null,
   "metadata": {
    "ExecuteTime": {
     "end_time": "2018-12-04T23:01:31.704018Z",
     "start_time": "2018-12-04T23:01:31.244711Z"
    }
   },
   "outputs": [],
   "source": [
    "preds_dl = model_dl.predict(x_test_pad, verbose=1, batch_size=512)\n",
    "preds_dl_train = model_dl.predict(x_train_pad, verbose=1, batch_size=512)"
   ]
  },
  {
   "cell_type": "markdown",
   "metadata": {},
   "source": [
    "### Оценим качество"
   ]
  },
  {
   "cell_type": "code",
   "execution_count": null,
   "metadata": {
    "ExecuteTime": {
     "end_time": "2018-12-04T23:02:10.948100Z",
     "start_time": "2018-12-04T23:02:10.934990Z"
    }
   },
   "outputs": [],
   "source": [
    "print('Train accuracy', accuracy_score(y_train, (preds_dl_train>0.5)*1.))\n",
    "print('Test accuracy', accuracy_score(y_test, (preds_dl>0.5)*1.))"
   ]
  },
  {
   "cell_type": "markdown",
   "metadata": {},
   "source": [
    "### Посмотрим на динамику обучения"
   ]
  },
  {
   "cell_type": "code",
   "execution_count": null,
   "metadata": {
    "ExecuteTime": {
     "end_time": "2018-12-04T22:57:29.540948Z",
     "start_time": "2018-12-04T22:57:29.142874Z"
    }
   },
   "outputs": [],
   "source": [
    "fig = plt.figure(figsize=(15,7.5))\n",
    "\n",
    "epochs = range(1, len(history.history['acc']) + 1)\n",
    "\n",
    "plt.plot(epochs, history.history['acc'], 'r', label='Training loss')\n",
    "plt.plot(epochs, history.history['val_acc'], 'b', label='Validation loss')\n",
    "plt.title('Training and validation loss')\n",
    "plt.xlabel('Epochs')\n",
    "plt.ylabel('Loss')\n",
    "plt.legend()\n",
    "\n",
    "plt.show()"
   ]
  },
  {
   "cell_type": "code",
   "execution_count": null,
   "metadata": {},
   "outputs": [],
   "source": []
  }
 ],
 "metadata": {
  "kernelspec": {
   "display_name": "Python 3",
   "language": "python",
   "name": "python3"
  },
  "language_info": {
   "codemirror_mode": {
    "name": "ipython",
    "version": 3
   },
   "file_extension": ".py",
   "mimetype": "text/x-python",
   "name": "python",
   "nbconvert_exporter": "python",
   "pygments_lexer": "ipython3",
   "version": "3.6.5"
  },
  "varInspector": {
   "cols": {
    "lenName": 16,
    "lenType": 16,
    "lenVar": 40
   },
   "kernels_config": {
    "python": {
     "delete_cmd_postfix": "",
     "delete_cmd_prefix": "del ",
     "library": "var_list.py",
     "varRefreshCmd": "print(var_dic_list())"
    },
    "r": {
     "delete_cmd_postfix": ") ",
     "delete_cmd_prefix": "rm(",
     "library": "var_list.r",
     "varRefreshCmd": "cat(var_dic_list()) "
    }
   },
   "position": {
    "height": "145.88235473632812px",
    "left": "1128.878662109375px",
    "right": "27.00367546081543px",
    "top": "109.98161315917969px",
    "width": "350px"
   },
   "types_to_exclude": [
    "module",
    "function",
    "builtin_function_or_method",
    "instance",
    "_Feature"
   ],
   "window_display": false
  }
 },
 "nbformat": 4,
 "nbformat_minor": 2
}
